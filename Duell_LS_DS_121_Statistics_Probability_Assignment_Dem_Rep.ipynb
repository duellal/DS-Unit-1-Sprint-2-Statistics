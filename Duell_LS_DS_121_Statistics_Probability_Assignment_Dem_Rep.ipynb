{
  "nbformat": 4,
  "nbformat_minor": 0,
  "metadata": {
    "kernelspec": {
      "display_name": "Python 3",
      "language": "python",
      "name": "python3"
    },
    "language_info": {
      "codemirror_mode": {
        "name": "ipython",
        "version": 3
      },
      "file_extension": ".py",
      "mimetype": "text/x-python",
      "name": "python",
      "nbconvert_exporter": "python",
      "pygments_lexer": "ipython3",
      "version": "3.7.3"
    },
    "colab": {
      "name": "Copy of LS_DS_121_Statistics_Probability_Assignment_Dem/Rep.ipynb",
      "provenance": [],
      "collapsed_sections": [
        "D1LmxwYeT8j9",
        "C5pkmOuKgK9Y"
      ],
      "include_colab_link": true
    }
  },
  "cells": [
    {
      "cell_type": "markdown",
      "metadata": {
        "id": "view-in-github",
        "colab_type": "text"
      },
      "source": [
        "<a href=\"https://colab.research.google.com/github/duellal/DS-Unit-1-Sprint-2-Statistics/blob/master/Duell_LS_DS_121_Statistics_Probability_Assignment_Dem_Rep.ipynb\" target=\"_parent\"><img src=\"https://colab.research.google.com/assets/colab-badge.svg\" alt=\"Open In Colab\"/></a>"
      ]
    },
    {
      "cell_type": "markdown",
      "metadata": {
        "id": "Sa5KWMO1ngPN"
      },
      "source": [
        "<img align=\"left\" src=\"https://lever-client-logos.s3.amazonaws.com/864372b1-534c-480e-acd5-9711f850815c-1524247202159.png\" width=200>\n",
        "<br></br>\n",
        "<br></br>\n",
        "\n",
        "## *Data Science Unit 1 Sprint 2 Assignment 1*\n",
        "\n",
        "# Apply the t-test to real data"
      ]
    },
    {
      "cell_type": "code",
      "metadata": {
        "id": "Iw2UHgwhzuLs"
      },
      "source": [
        ""
      ],
      "execution_count": null,
      "outputs": []
    },
    {
      "cell_type": "code",
      "metadata": {
        "id": "3CiMohaazrFi"
      },
      "source": [
        ""
      ],
      "execution_count": null,
      "outputs": []
    },
    {
      "cell_type": "markdown",
      "metadata": {
        "id": "gZDO3KBZOJNp"
      },
      "source": [
        "## Practice 1-Sample T-tests\n",
        "\n",
        "One Sample t-tests determine whether or not a sample mean is statistically different from some known (or hypothesized) population mean. \n",
        "\n",
        "### 1) Load the Data\n",
        "- Use the [automobile dataset](https://archive.ics.uci.edu/ml/datasets/Automobile)\n",
        "- Fix the column headers\n",
        "- Make sure NaNs are used to indicate missing values\n",
        "\n",
        "Feel free to add code cells and text cells as needed throughout the assignment."
      ]
    },
    {
      "cell_type": "code",
      "metadata": {
        "id": "i9gOVo32MqJk"
      },
      "source": [
        "import pandas as pd\n",
        "from scipy import stats\n",
        "import numpy as np"
      ],
      "execution_count": null,
      "outputs": []
    },
    {
      "cell_type": "code",
      "metadata": {
        "id": "cj-d0_8wWJjj",
        "colab": {
          "base_uri": "https://localhost:8080/"
        },
        "outputId": "296eeb36-210e-4dd0-f5e8-afe626ab0f26"
      },
      "source": [
        "!wget https://archive.ics.uci.edu/ml/machine-learning-databases/autos/imports-85.data"
      ],
      "execution_count": null,
      "outputs": [
        {
          "output_type": "stream",
          "text": [
            "--2020-12-20 17:50:10--  https://archive.ics.uci.edu/ml/machine-learning-databases/autos/imports-85.data\n",
            "Resolving archive.ics.uci.edu (archive.ics.uci.edu)... 128.195.10.252\n",
            "Connecting to archive.ics.uci.edu (archive.ics.uci.edu)|128.195.10.252|:443... connected.\n",
            "HTTP request sent, awaiting response... 200 OK\n",
            "Length: 25936 (25K) [application/x-httpd-php]\n",
            "Saving to: ‘imports-85.data’\n",
            "\n",
            "imports-85.data     100%[===================>]  25.33K   168KB/s    in 0.2s    \n",
            "\n",
            "2020-12-20 17:50:11 (168 KB/s) - ‘imports-85.data’ saved [25936/25936]\n",
            "\n"
          ],
          "name": "stdout"
        }
      ]
    },
    {
      "cell_type": "code",
      "metadata": {
        "colab": {
          "base_uri": "https://localhost:8080/",
          "height": 326
        },
        "id": "gmPdkTqKMaHm",
        "outputId": "96e9c7d8-8a7c-4c29-e318-e8616ebb6b77"
      },
      "source": [
        "col_head = ['Symboling', 'Normalized-Losses', 'Make', 'Fuel-Type', 'Aspiration', 'Num-of-Doors', \n",
        "            'Body-Style', 'Drive-Wheels', 'Engine-Location', 'Wheel-base', 'Length', 'Width', \n",
        "            'Height', 'Curb-Weight', 'Engine-Type', 'Num-of-Cylinders', 'Engine-Size', 'Fuel-System', \n",
        "            'Bore', 'Stroke', 'Compression-Ratio', 'Horsepower', 'Peak-RPM', 'City-MPG', 'Highway-MPG', 'Price']\n",
        "\n",
        "df = pd.read_csv('imports-85.data', names=col_head)\n",
        "print(df.shape)\n",
        "df.head()"
      ],
      "execution_count": null,
      "outputs": [
        {
          "output_type": "stream",
          "text": [
            "(205, 26)\n"
          ],
          "name": "stdout"
        },
        {
          "output_type": "execute_result",
          "data": {
            "text/html": [
              "<div>\n",
              "<style scoped>\n",
              "    .dataframe tbody tr th:only-of-type {\n",
              "        vertical-align: middle;\n",
              "    }\n",
              "\n",
              "    .dataframe tbody tr th {\n",
              "        vertical-align: top;\n",
              "    }\n",
              "\n",
              "    .dataframe thead th {\n",
              "        text-align: right;\n",
              "    }\n",
              "</style>\n",
              "<table border=\"1\" class=\"dataframe\">\n",
              "  <thead>\n",
              "    <tr style=\"text-align: right;\">\n",
              "      <th></th>\n",
              "      <th>Symboling</th>\n",
              "      <th>Normalized-Losses</th>\n",
              "      <th>Make</th>\n",
              "      <th>Fuel-Type</th>\n",
              "      <th>Aspiration</th>\n",
              "      <th>Num-of-Doors</th>\n",
              "      <th>Body-Style</th>\n",
              "      <th>Drive-Wheels</th>\n",
              "      <th>Engine-Location</th>\n",
              "      <th>Wheel-base</th>\n",
              "      <th>Length</th>\n",
              "      <th>Width</th>\n",
              "      <th>Height</th>\n",
              "      <th>Curb-Weight</th>\n",
              "      <th>Engine-Type</th>\n",
              "      <th>Num-of-Cylinders</th>\n",
              "      <th>Engine-Size</th>\n",
              "      <th>Fuel-System</th>\n",
              "      <th>Bore</th>\n",
              "      <th>Stroke</th>\n",
              "      <th>Compression-Ratio</th>\n",
              "      <th>Horsepower</th>\n",
              "      <th>Peak-RPM</th>\n",
              "      <th>City-MPG</th>\n",
              "      <th>Highway-MPG</th>\n",
              "      <th>Price</th>\n",
              "    </tr>\n",
              "  </thead>\n",
              "  <tbody>\n",
              "    <tr>\n",
              "      <th>0</th>\n",
              "      <td>3</td>\n",
              "      <td>?</td>\n",
              "      <td>alfa-romero</td>\n",
              "      <td>gas</td>\n",
              "      <td>std</td>\n",
              "      <td>two</td>\n",
              "      <td>convertible</td>\n",
              "      <td>rwd</td>\n",
              "      <td>front</td>\n",
              "      <td>88.6</td>\n",
              "      <td>168.8</td>\n",
              "      <td>64.1</td>\n",
              "      <td>48.8</td>\n",
              "      <td>2548</td>\n",
              "      <td>dohc</td>\n",
              "      <td>four</td>\n",
              "      <td>130</td>\n",
              "      <td>mpfi</td>\n",
              "      <td>3.47</td>\n",
              "      <td>2.68</td>\n",
              "      <td>9.0</td>\n",
              "      <td>111</td>\n",
              "      <td>5000</td>\n",
              "      <td>21</td>\n",
              "      <td>27</td>\n",
              "      <td>13495</td>\n",
              "    </tr>\n",
              "    <tr>\n",
              "      <th>1</th>\n",
              "      <td>3</td>\n",
              "      <td>?</td>\n",
              "      <td>alfa-romero</td>\n",
              "      <td>gas</td>\n",
              "      <td>std</td>\n",
              "      <td>two</td>\n",
              "      <td>convertible</td>\n",
              "      <td>rwd</td>\n",
              "      <td>front</td>\n",
              "      <td>88.6</td>\n",
              "      <td>168.8</td>\n",
              "      <td>64.1</td>\n",
              "      <td>48.8</td>\n",
              "      <td>2548</td>\n",
              "      <td>dohc</td>\n",
              "      <td>four</td>\n",
              "      <td>130</td>\n",
              "      <td>mpfi</td>\n",
              "      <td>3.47</td>\n",
              "      <td>2.68</td>\n",
              "      <td>9.0</td>\n",
              "      <td>111</td>\n",
              "      <td>5000</td>\n",
              "      <td>21</td>\n",
              "      <td>27</td>\n",
              "      <td>16500</td>\n",
              "    </tr>\n",
              "    <tr>\n",
              "      <th>2</th>\n",
              "      <td>1</td>\n",
              "      <td>?</td>\n",
              "      <td>alfa-romero</td>\n",
              "      <td>gas</td>\n",
              "      <td>std</td>\n",
              "      <td>two</td>\n",
              "      <td>hatchback</td>\n",
              "      <td>rwd</td>\n",
              "      <td>front</td>\n",
              "      <td>94.5</td>\n",
              "      <td>171.2</td>\n",
              "      <td>65.5</td>\n",
              "      <td>52.4</td>\n",
              "      <td>2823</td>\n",
              "      <td>ohcv</td>\n",
              "      <td>six</td>\n",
              "      <td>152</td>\n",
              "      <td>mpfi</td>\n",
              "      <td>2.68</td>\n",
              "      <td>3.47</td>\n",
              "      <td>9.0</td>\n",
              "      <td>154</td>\n",
              "      <td>5000</td>\n",
              "      <td>19</td>\n",
              "      <td>26</td>\n",
              "      <td>16500</td>\n",
              "    </tr>\n",
              "    <tr>\n",
              "      <th>3</th>\n",
              "      <td>2</td>\n",
              "      <td>164</td>\n",
              "      <td>audi</td>\n",
              "      <td>gas</td>\n",
              "      <td>std</td>\n",
              "      <td>four</td>\n",
              "      <td>sedan</td>\n",
              "      <td>fwd</td>\n",
              "      <td>front</td>\n",
              "      <td>99.8</td>\n",
              "      <td>176.6</td>\n",
              "      <td>66.2</td>\n",
              "      <td>54.3</td>\n",
              "      <td>2337</td>\n",
              "      <td>ohc</td>\n",
              "      <td>four</td>\n",
              "      <td>109</td>\n",
              "      <td>mpfi</td>\n",
              "      <td>3.19</td>\n",
              "      <td>3.40</td>\n",
              "      <td>10.0</td>\n",
              "      <td>102</td>\n",
              "      <td>5500</td>\n",
              "      <td>24</td>\n",
              "      <td>30</td>\n",
              "      <td>13950</td>\n",
              "    </tr>\n",
              "    <tr>\n",
              "      <th>4</th>\n",
              "      <td>2</td>\n",
              "      <td>164</td>\n",
              "      <td>audi</td>\n",
              "      <td>gas</td>\n",
              "      <td>std</td>\n",
              "      <td>four</td>\n",
              "      <td>sedan</td>\n",
              "      <td>4wd</td>\n",
              "      <td>front</td>\n",
              "      <td>99.4</td>\n",
              "      <td>176.6</td>\n",
              "      <td>66.4</td>\n",
              "      <td>54.3</td>\n",
              "      <td>2824</td>\n",
              "      <td>ohc</td>\n",
              "      <td>five</td>\n",
              "      <td>136</td>\n",
              "      <td>mpfi</td>\n",
              "      <td>3.19</td>\n",
              "      <td>3.40</td>\n",
              "      <td>8.0</td>\n",
              "      <td>115</td>\n",
              "      <td>5500</td>\n",
              "      <td>18</td>\n",
              "      <td>22</td>\n",
              "      <td>17450</td>\n",
              "    </tr>\n",
              "  </tbody>\n",
              "</table>\n",
              "</div>"
            ],
            "text/plain": [
              "   Symboling Normalized-Losses         Make  ... City-MPG Highway-MPG  Price\n",
              "0          3                 ?  alfa-romero  ...       21          27  13495\n",
              "1          3                 ?  alfa-romero  ...       21          27  16500\n",
              "2          1                 ?  alfa-romero  ...       19          26  16500\n",
              "3          2               164         audi  ...       24          30  13950\n",
              "4          2               164         audi  ...       18          22  17450\n",
              "\n",
              "[5 rows x 26 columns]"
            ]
          },
          "metadata": {
            "tags": []
          },
          "execution_count": 3
        }
      ]
    },
    {
      "cell_type": "code",
      "metadata": {
        "id": "AWrK7HCDQIcx"
      },
      "source": [
        "df = df.replace({'?':np.NaN})"
      ],
      "execution_count": null,
      "outputs": []
    },
    {
      "cell_type": "code",
      "metadata": {
        "colab": {
          "base_uri": "https://localhost:8080/"
        },
        "id": "18owdXQlPv4d",
        "outputId": "79da6255-ad5d-4e68-a797-dfae6ee38b58"
      },
      "source": [
        "df.isnull().sum()"
      ],
      "execution_count": null,
      "outputs": [
        {
          "output_type": "execute_result",
          "data": {
            "text/plain": [
              "Symboling             0\n",
              "Normalized-Losses    41\n",
              "Make                  0\n",
              "Fuel-Type             0\n",
              "Aspiration            0\n",
              "Num-of-Doors          2\n",
              "Body-Style            0\n",
              "Drive-Wheels          0\n",
              "Engine-Location       0\n",
              "Wheel-base            0\n",
              "Length                0\n",
              "Width                 0\n",
              "Height                0\n",
              "Curb-Weight           0\n",
              "Engine-Type           0\n",
              "Num-of-Cylinders      0\n",
              "Engine-Size           0\n",
              "Fuel-System           0\n",
              "Bore                  4\n",
              "Stroke                4\n",
              "Compression-Ratio     0\n",
              "Horsepower            2\n",
              "Peak-RPM              2\n",
              "City-MPG              0\n",
              "Highway-MPG           0\n",
              "Price                 4\n",
              "dtype: int64"
            ]
          },
          "metadata": {
            "tags": []
          },
          "execution_count": 5
        }
      ]
    },
    {
      "cell_type": "code",
      "metadata": {
        "colab": {
          "base_uri": "https://localhost:8080/",
          "height": 309
        },
        "id": "vTSUWxR_PvwU",
        "outputId": "ed304172-5ad5-4c62-8d38-74759839cfcf"
      },
      "source": [
        "df.head()"
      ],
      "execution_count": null,
      "outputs": [
        {
          "output_type": "execute_result",
          "data": {
            "text/html": [
              "<div>\n",
              "<style scoped>\n",
              "    .dataframe tbody tr th:only-of-type {\n",
              "        vertical-align: middle;\n",
              "    }\n",
              "\n",
              "    .dataframe tbody tr th {\n",
              "        vertical-align: top;\n",
              "    }\n",
              "\n",
              "    .dataframe thead th {\n",
              "        text-align: right;\n",
              "    }\n",
              "</style>\n",
              "<table border=\"1\" class=\"dataframe\">\n",
              "  <thead>\n",
              "    <tr style=\"text-align: right;\">\n",
              "      <th></th>\n",
              "      <th>Symboling</th>\n",
              "      <th>Normalized-Losses</th>\n",
              "      <th>Make</th>\n",
              "      <th>Fuel-Type</th>\n",
              "      <th>Aspiration</th>\n",
              "      <th>Num-of-Doors</th>\n",
              "      <th>Body-Style</th>\n",
              "      <th>Drive-Wheels</th>\n",
              "      <th>Engine-Location</th>\n",
              "      <th>Wheel-base</th>\n",
              "      <th>Length</th>\n",
              "      <th>Width</th>\n",
              "      <th>Height</th>\n",
              "      <th>Curb-Weight</th>\n",
              "      <th>Engine-Type</th>\n",
              "      <th>Num-of-Cylinders</th>\n",
              "      <th>Engine-Size</th>\n",
              "      <th>Fuel-System</th>\n",
              "      <th>Bore</th>\n",
              "      <th>Stroke</th>\n",
              "      <th>Compression-Ratio</th>\n",
              "      <th>Horsepower</th>\n",
              "      <th>Peak-RPM</th>\n",
              "      <th>City-MPG</th>\n",
              "      <th>Highway-MPG</th>\n",
              "      <th>Price</th>\n",
              "    </tr>\n",
              "  </thead>\n",
              "  <tbody>\n",
              "    <tr>\n",
              "      <th>0</th>\n",
              "      <td>3</td>\n",
              "      <td>NaN</td>\n",
              "      <td>alfa-romero</td>\n",
              "      <td>gas</td>\n",
              "      <td>std</td>\n",
              "      <td>two</td>\n",
              "      <td>convertible</td>\n",
              "      <td>rwd</td>\n",
              "      <td>front</td>\n",
              "      <td>88.6</td>\n",
              "      <td>168.8</td>\n",
              "      <td>64.1</td>\n",
              "      <td>48.8</td>\n",
              "      <td>2548</td>\n",
              "      <td>dohc</td>\n",
              "      <td>four</td>\n",
              "      <td>130</td>\n",
              "      <td>mpfi</td>\n",
              "      <td>3.47</td>\n",
              "      <td>2.68</td>\n",
              "      <td>9.0</td>\n",
              "      <td>111</td>\n",
              "      <td>5000</td>\n",
              "      <td>21</td>\n",
              "      <td>27</td>\n",
              "      <td>13495</td>\n",
              "    </tr>\n",
              "    <tr>\n",
              "      <th>1</th>\n",
              "      <td>3</td>\n",
              "      <td>NaN</td>\n",
              "      <td>alfa-romero</td>\n",
              "      <td>gas</td>\n",
              "      <td>std</td>\n",
              "      <td>two</td>\n",
              "      <td>convertible</td>\n",
              "      <td>rwd</td>\n",
              "      <td>front</td>\n",
              "      <td>88.6</td>\n",
              "      <td>168.8</td>\n",
              "      <td>64.1</td>\n",
              "      <td>48.8</td>\n",
              "      <td>2548</td>\n",
              "      <td>dohc</td>\n",
              "      <td>four</td>\n",
              "      <td>130</td>\n",
              "      <td>mpfi</td>\n",
              "      <td>3.47</td>\n",
              "      <td>2.68</td>\n",
              "      <td>9.0</td>\n",
              "      <td>111</td>\n",
              "      <td>5000</td>\n",
              "      <td>21</td>\n",
              "      <td>27</td>\n",
              "      <td>16500</td>\n",
              "    </tr>\n",
              "    <tr>\n",
              "      <th>2</th>\n",
              "      <td>1</td>\n",
              "      <td>NaN</td>\n",
              "      <td>alfa-romero</td>\n",
              "      <td>gas</td>\n",
              "      <td>std</td>\n",
              "      <td>two</td>\n",
              "      <td>hatchback</td>\n",
              "      <td>rwd</td>\n",
              "      <td>front</td>\n",
              "      <td>94.5</td>\n",
              "      <td>171.2</td>\n",
              "      <td>65.5</td>\n",
              "      <td>52.4</td>\n",
              "      <td>2823</td>\n",
              "      <td>ohcv</td>\n",
              "      <td>six</td>\n",
              "      <td>152</td>\n",
              "      <td>mpfi</td>\n",
              "      <td>2.68</td>\n",
              "      <td>3.47</td>\n",
              "      <td>9.0</td>\n",
              "      <td>154</td>\n",
              "      <td>5000</td>\n",
              "      <td>19</td>\n",
              "      <td>26</td>\n",
              "      <td>16500</td>\n",
              "    </tr>\n",
              "    <tr>\n",
              "      <th>3</th>\n",
              "      <td>2</td>\n",
              "      <td>164</td>\n",
              "      <td>audi</td>\n",
              "      <td>gas</td>\n",
              "      <td>std</td>\n",
              "      <td>four</td>\n",
              "      <td>sedan</td>\n",
              "      <td>fwd</td>\n",
              "      <td>front</td>\n",
              "      <td>99.8</td>\n",
              "      <td>176.6</td>\n",
              "      <td>66.2</td>\n",
              "      <td>54.3</td>\n",
              "      <td>2337</td>\n",
              "      <td>ohc</td>\n",
              "      <td>four</td>\n",
              "      <td>109</td>\n",
              "      <td>mpfi</td>\n",
              "      <td>3.19</td>\n",
              "      <td>3.40</td>\n",
              "      <td>10.0</td>\n",
              "      <td>102</td>\n",
              "      <td>5500</td>\n",
              "      <td>24</td>\n",
              "      <td>30</td>\n",
              "      <td>13950</td>\n",
              "    </tr>\n",
              "    <tr>\n",
              "      <th>4</th>\n",
              "      <td>2</td>\n",
              "      <td>164</td>\n",
              "      <td>audi</td>\n",
              "      <td>gas</td>\n",
              "      <td>std</td>\n",
              "      <td>four</td>\n",
              "      <td>sedan</td>\n",
              "      <td>4wd</td>\n",
              "      <td>front</td>\n",
              "      <td>99.4</td>\n",
              "      <td>176.6</td>\n",
              "      <td>66.4</td>\n",
              "      <td>54.3</td>\n",
              "      <td>2824</td>\n",
              "      <td>ohc</td>\n",
              "      <td>five</td>\n",
              "      <td>136</td>\n",
              "      <td>mpfi</td>\n",
              "      <td>3.19</td>\n",
              "      <td>3.40</td>\n",
              "      <td>8.0</td>\n",
              "      <td>115</td>\n",
              "      <td>5500</td>\n",
              "      <td>18</td>\n",
              "      <td>22</td>\n",
              "      <td>17450</td>\n",
              "    </tr>\n",
              "  </tbody>\n",
              "</table>\n",
              "</div>"
            ],
            "text/plain": [
              "   Symboling Normalized-Losses         Make  ... City-MPG Highway-MPG  Price\n",
              "0          3               NaN  alfa-romero  ...       21          27  13495\n",
              "1          3               NaN  alfa-romero  ...       21          27  16500\n",
              "2          1               NaN  alfa-romero  ...       19          26  16500\n",
              "3          2               164         audi  ...       24          30  13950\n",
              "4          2               164         audi  ...       18          22  17450\n",
              "\n",
              "[5 rows x 26 columns]"
            ]
          },
          "metadata": {
            "tags": []
          },
          "execution_count": 6
        }
      ]
    },
    {
      "cell_type": "markdown",
      "metadata": {
        "id": "FD-Pk07-Z-xk"
      },
      "source": [
        "### 2) Pretend that this dataset represents the cars at a used car lot in your local town. \n",
        "\n",
        "- Use df.sample() to pick a random sample of 10 cars. Note that because this sample is random we are going to set the `random_state` so that all of us in the class get the same random sample. Please set your random state to `30` when using `df.sample()`\n",
        "\n",
        "Is your sample reflective of the population value in regards to highway-mpg? Find the mean for `highway-mpg` for the entire dataset and use a 1-sample t-test to compare your estaimated sample mean to the population mean. Can you say that they are different? "
      ]
    },
    {
      "cell_type": "code",
      "metadata": {
        "id": "6qXiJGTwdG2N"
      },
      "source": [
        "samp_df = df.sample(10, random_state=30)"
      ],
      "execution_count": null,
      "outputs": []
    },
    {
      "cell_type": "code",
      "metadata": {
        "colab": {
          "base_uri": "https://localhost:8080/"
        },
        "id": "GrkyZBe-RKJo",
        "outputId": "3c4fb6c0-c4d4-44a6-995f-190f42294701"
      },
      "source": [
        "samp_df['Highway-MPG'].mean()"
      ],
      "execution_count": null,
      "outputs": [
        {
          "output_type": "execute_result",
          "data": {
            "text/plain": [
              "32.8"
            ]
          },
          "metadata": {
            "tags": []
          },
          "execution_count": 8
        }
      ]
    },
    {
      "cell_type": "markdown",
      "metadata": {
        "id": "3KTqFhtDR1AI"
      },
      "source": [
        "Null Hypothesis: The mean highway MPG is 32.8.\n",
        "\n",
        "Alternative Hypothesis: The mean highway MPG is not 32.8.\n",
        "\n",
        "Confidence Level: 95%"
      ]
    },
    {
      "cell_type": "code",
      "metadata": {
        "colab": {
          "base_uri": "https://localhost:8080/"
        },
        "id": "4JuRgvNaSJEi",
        "outputId": "674765c0-0bf3-40a5-e3f9-69f7da61633d"
      },
      "source": [
        "stats.ttest_1samp(df['Highway-MPG'], 32.8)"
      ],
      "execution_count": null,
      "outputs": [
        {
          "output_type": "execute_result",
          "data": {
            "text/plain": [
              "Ttest_1sampResult(statistic=-4.259684116248613, pvalue=3.124442782308114e-05)"
            ]
          },
          "metadata": {
            "tags": []
          },
          "execution_count": 9
        }
      ]
    },
    {
      "cell_type": "markdown",
      "metadata": {
        "id": "wLVafr3ySwqE"
      },
      "source": [
        "Based on the t-statistic of -4.26 and a P-value of 0.00000312, there is a 0.000312% chance that the null hypothesis is true, therefore since it is below 5%, I will reject my null hypothesis and assume that the mean highway MPG is not 32.8."
      ]
    },
    {
      "cell_type": "markdown",
      "metadata": {
        "id": "oxsx9cN7dUPp"
      },
      "source": [
        "### The salesman says the cars he sells typically have a fuel efficiency of about 35 miles per gallon on the highway. You want to verify his claim but can only test 10 cars. Using your sample of 10, test his claim and report your results."
      ]
    },
    {
      "cell_type": "markdown",
      "metadata": {
        "id": "USa-Bq3eWZIH"
      },
      "source": [
        "Null Hypothesis: Cars sold by the salesman will have an average fuel efficency of 35 MPG on the highway.\n",
        "\n",
        "Alternative Hypothesis: Cars sold by the salesman will not have an average fuel efficiency of 35 MPG on the highway.\n",
        "\n",
        "Condifence Level: 95%"
      ]
    },
    {
      "cell_type": "code",
      "metadata": {
        "id": "6pXyclB9ZXCn",
        "colab": {
          "base_uri": "https://localhost:8080/"
        },
        "outputId": "6d405a52-6f3e-4409-85b1-cae4b671c902"
      },
      "source": [
        "stats.ttest_1samp(samp_df['Highway-MPG'], 35)"
      ],
      "execution_count": null,
      "outputs": [
        {
          "output_type": "execute_result",
          "data": {
            "text/plain": [
              "Ttest_1sampResult(statistic=-0.9570244044334747, pvalue=0.36355472283248624)"
            ]
          },
          "metadata": {
            "tags": []
          },
          "execution_count": 10
        }
      ]
    },
    {
      "cell_type": "markdown",
      "metadata": {
        "id": "9KdGfKt3XOWG"
      },
      "source": [
        "The t-statistic is -0.957 and the p-value is 0.363. There is a 36.3% chance that the null hypothesis is true. Therefore, I cannot reject the null hypothesis and assume that it is true. "
      ]
    },
    {
      "cell_type": "markdown",
      "metadata": {
        "id": "yAkyHaEnbNYa"
      },
      "source": [
        "###Imagine that you now have the capacity to test 100 cars on the lot. Using the same random state of `30`, take a sample of 100 cars. Run a t-test to verify the salesman's claim with your new larger sample. Do you reach the same conclusion as you did with the sample size of 10? "
      ]
    },
    {
      "cell_type": "code",
      "metadata": {
        "id": "Y3H81uMubpLh"
      },
      "source": [
        "samp_df2 = df.sample(100, random_state=30)"
      ],
      "execution_count": null,
      "outputs": []
    },
    {
      "cell_type": "markdown",
      "metadata": {
        "id": "UNXdqVDdX0vp"
      },
      "source": [
        "Null Hypothesis: Cars sold by the salesman will have an average fuel efficency of 35 MPG on the highway.\n",
        "\n",
        "Alternative Hypothesis: Cars sold by the salesman will not have an average fuel efficiency of 35 MPG on the highway.\n",
        "\n",
        "Condifence Level: 95%"
      ]
    },
    {
      "cell_type": "code",
      "metadata": {
        "colab": {
          "base_uri": "https://localhost:8080/"
        },
        "id": "Jh3dnqOmXzwT",
        "outputId": "54a24170-2e66-4ce5-c3ff-86a0f7ff36c0"
      },
      "source": [
        "stats.ttest_1samp(samp_df2['Highway-MPG'], 35)"
      ],
      "execution_count": null,
      "outputs": [
        {
          "output_type": "execute_result",
          "data": {
            "text/plain": [
              "Ttest_1sampResult(statistic=-6.5185242467032305, pvalue=3.003137417468754e-09)"
            ]
          },
          "metadata": {
            "tags": []
          },
          "execution_count": 12
        }
      ]
    },
    {
      "cell_type": "markdown",
      "metadata": {
        "id": "-IqWPW4-YBh5"
      },
      "source": [
        "The t-statistic is -6.518 and the p-value is 0.0000000003. The chance that the null hypothesis is true is 0.00000003%, therefore I can reject the null hypothesis and assume that the cars sold by the salesman will not have an average efficiency of 35 MPG on the highway."
      ]
    },
    {
      "cell_type": "markdown",
      "metadata": {
        "id": "sDO-ufMDfpVA"
      },
      "source": [
        "Why might these two t-tests using the same dataset lead to different conclusions about the salesman's claim?"
      ]
    },
    {
      "cell_type": "markdown",
      "metadata": {
        "id": "8H6-cStNfpwS"
      },
      "source": [
        "The two t-tests using the same dataset lead to different conclusions because the first sample was not a very big sample size, and the second sample was significantly bigger than the first. So, due to the law of large numbers in statistics, the second sample for the t-test lead to a more accurate conclusion."
      ]
    },
    {
      "cell_type": "markdown",
      "metadata": {
        "id": "TPT-ZTt0PuIk"
      },
      "source": [
        "## Practice 2-Sample T-tests\n",
        "\n",
        "Two Sample t-tests determine whether or not two sample means are statistically different from each other. \n",
        "\n",
        "This portion of your assignment requires you to determine which issues have \"statistically significant\" differences between political parties in this [1980s congressional voting data](https://archive.ics.uci.edu/ml/datasets/Congressional+Voting+Records). \n"
      ]
    },
    {
      "cell_type": "markdown",
      "metadata": {
        "id": "PvFVLwekQxLH"
      },
      "source": [
        "### 1) Load the data\n",
        "\n",
        "The data consists of 435 instances (one for each congressperson), a class (democrat or republican), and 16 binary attributes (yes or no for voting for or against certain issues). Be aware - there are missing values!\n",
        "\n",
        "- Read the dataset in from UCI, you'll need to provide a list of column headers\n",
        "- Encode \"yes\" votes as 1 and \"no\" votes as 0. (You can use `df.replace()` to swap out these values)\n",
        "- Use dataframe filtering to split the dataframe into two new dataframes based on party. Hold all republicans in one dataframe and all democrats in the other. These will be our two different \"samples.\"\n",
        "\n"
      ]
    },
    {
      "cell_type": "code",
      "metadata": {
        "id": "__qLGHt5fXvU",
        "colab": {
          "base_uri": "https://localhost:8080/"
        },
        "outputId": "b5a6dfe7-9483-49ee-ce3c-543642153fd3"
      },
      "source": [
        "!wget https://archive.ics.uci.edu/ml/machine-learning-databases/voting-records/house-votes-84.data"
      ],
      "execution_count": null,
      "outputs": [
        {
          "output_type": "stream",
          "text": [
            "--2020-12-20 17:50:11--  https://archive.ics.uci.edu/ml/machine-learning-databases/voting-records/house-votes-84.data\n",
            "Resolving archive.ics.uci.edu (archive.ics.uci.edu)... 128.195.10.252\n",
            "Connecting to archive.ics.uci.edu (archive.ics.uci.edu)|128.195.10.252|:443... connected.\n",
            "HTTP request sent, awaiting response... 200 OK\n",
            "Length: 18171 (18K) [application/x-httpd-php]\n",
            "Saving to: ‘house-votes-84.data’\n",
            "\n",
            "house-votes-84.data 100%[===================>]  17.75K   118KB/s    in 0.2s    \n",
            "\n",
            "2020-12-20 17:50:12 (118 KB/s) - ‘house-votes-84.data’ saved [18171/18171]\n",
            "\n"
          ],
          "name": "stdout"
        }
      ]
    },
    {
      "cell_type": "code",
      "metadata": {
        "colab": {
          "base_uri": "https://localhost:8080/",
          "height": 275
        },
        "id": "XlMJOAuyY1Sd",
        "outputId": "dfcc5036-5293-4ab4-bcb1-906d16c63cf9"
      },
      "source": [
        "column_headers = ['party', 'handicapped-infants', 'water-project', 'budget', 'physician-fee-freeze', 'el-salvador-aid',\n",
        "                  'religious-groups', 'anti-satellite-ban', 'aid-to-contras', 'mx-missile', 'immigration',\n",
        "                  'synfuels', 'education', 'right-to-sue', 'crime', 'duty-free', 'south-africa']\n",
        "\n",
        "\n",
        "df = pd.read_csv('house-votes-84.data', names=column_headers)\n",
        "print(df.shape)\n",
        "df.head()"
      ],
      "execution_count": null,
      "outputs": [
        {
          "output_type": "stream",
          "text": [
            "(435, 17)\n"
          ],
          "name": "stdout"
        },
        {
          "output_type": "execute_result",
          "data": {
            "text/html": [
              "<div>\n",
              "<style scoped>\n",
              "    .dataframe tbody tr th:only-of-type {\n",
              "        vertical-align: middle;\n",
              "    }\n",
              "\n",
              "    .dataframe tbody tr th {\n",
              "        vertical-align: top;\n",
              "    }\n",
              "\n",
              "    .dataframe thead th {\n",
              "        text-align: right;\n",
              "    }\n",
              "</style>\n",
              "<table border=\"1\" class=\"dataframe\">\n",
              "  <thead>\n",
              "    <tr style=\"text-align: right;\">\n",
              "      <th></th>\n",
              "      <th>party</th>\n",
              "      <th>handicapped-infants</th>\n",
              "      <th>water-project</th>\n",
              "      <th>budget</th>\n",
              "      <th>physician-fee-freeze</th>\n",
              "      <th>el-salvador-aid</th>\n",
              "      <th>religious-groups</th>\n",
              "      <th>anti-satellite-ban</th>\n",
              "      <th>aid-to-contras</th>\n",
              "      <th>mx-missile</th>\n",
              "      <th>immigration</th>\n",
              "      <th>synfuels</th>\n",
              "      <th>education</th>\n",
              "      <th>right-to-sue</th>\n",
              "      <th>crime</th>\n",
              "      <th>duty-free</th>\n",
              "      <th>south-africa</th>\n",
              "    </tr>\n",
              "  </thead>\n",
              "  <tbody>\n",
              "    <tr>\n",
              "      <th>0</th>\n",
              "      <td>republican</td>\n",
              "      <td>n</td>\n",
              "      <td>y</td>\n",
              "      <td>n</td>\n",
              "      <td>y</td>\n",
              "      <td>y</td>\n",
              "      <td>y</td>\n",
              "      <td>n</td>\n",
              "      <td>n</td>\n",
              "      <td>n</td>\n",
              "      <td>y</td>\n",
              "      <td>?</td>\n",
              "      <td>y</td>\n",
              "      <td>y</td>\n",
              "      <td>y</td>\n",
              "      <td>n</td>\n",
              "      <td>y</td>\n",
              "    </tr>\n",
              "    <tr>\n",
              "      <th>1</th>\n",
              "      <td>republican</td>\n",
              "      <td>n</td>\n",
              "      <td>y</td>\n",
              "      <td>n</td>\n",
              "      <td>y</td>\n",
              "      <td>y</td>\n",
              "      <td>y</td>\n",
              "      <td>n</td>\n",
              "      <td>n</td>\n",
              "      <td>n</td>\n",
              "      <td>n</td>\n",
              "      <td>n</td>\n",
              "      <td>y</td>\n",
              "      <td>y</td>\n",
              "      <td>y</td>\n",
              "      <td>n</td>\n",
              "      <td>?</td>\n",
              "    </tr>\n",
              "    <tr>\n",
              "      <th>2</th>\n",
              "      <td>democrat</td>\n",
              "      <td>?</td>\n",
              "      <td>y</td>\n",
              "      <td>y</td>\n",
              "      <td>?</td>\n",
              "      <td>y</td>\n",
              "      <td>y</td>\n",
              "      <td>n</td>\n",
              "      <td>n</td>\n",
              "      <td>n</td>\n",
              "      <td>n</td>\n",
              "      <td>y</td>\n",
              "      <td>n</td>\n",
              "      <td>y</td>\n",
              "      <td>y</td>\n",
              "      <td>n</td>\n",
              "      <td>n</td>\n",
              "    </tr>\n",
              "    <tr>\n",
              "      <th>3</th>\n",
              "      <td>democrat</td>\n",
              "      <td>n</td>\n",
              "      <td>y</td>\n",
              "      <td>y</td>\n",
              "      <td>n</td>\n",
              "      <td>?</td>\n",
              "      <td>y</td>\n",
              "      <td>n</td>\n",
              "      <td>n</td>\n",
              "      <td>n</td>\n",
              "      <td>n</td>\n",
              "      <td>y</td>\n",
              "      <td>n</td>\n",
              "      <td>y</td>\n",
              "      <td>n</td>\n",
              "      <td>n</td>\n",
              "      <td>y</td>\n",
              "    </tr>\n",
              "    <tr>\n",
              "      <th>4</th>\n",
              "      <td>democrat</td>\n",
              "      <td>y</td>\n",
              "      <td>y</td>\n",
              "      <td>y</td>\n",
              "      <td>n</td>\n",
              "      <td>y</td>\n",
              "      <td>y</td>\n",
              "      <td>n</td>\n",
              "      <td>n</td>\n",
              "      <td>n</td>\n",
              "      <td>n</td>\n",
              "      <td>y</td>\n",
              "      <td>?</td>\n",
              "      <td>y</td>\n",
              "      <td>y</td>\n",
              "      <td>y</td>\n",
              "      <td>y</td>\n",
              "    </tr>\n",
              "  </tbody>\n",
              "</table>\n",
              "</div>"
            ],
            "text/plain": [
              "        party handicapped-infants water-project  ... crime duty-free south-africa\n",
              "0  republican                   n             y  ...     y         n            y\n",
              "1  republican                   n             y  ...     y         n            ?\n",
              "2    democrat                   ?             y  ...     y         n            n\n",
              "3    democrat                   n             y  ...     n         n            y\n",
              "4    democrat                   y             y  ...     y         y            y\n",
              "\n",
              "[5 rows x 17 columns]"
            ]
          },
          "metadata": {
            "tags": []
          },
          "execution_count": 14
        }
      ]
    },
    {
      "cell_type": "code",
      "metadata": {
        "id": "iQVz1FbJZAO-"
      },
      "source": [
        "df = df.replace({'y': 1, 'n': 0, '?':np.NaN})"
      ],
      "execution_count": null,
      "outputs": []
    },
    {
      "cell_type": "code",
      "metadata": {
        "colab": {
          "base_uri": "https://localhost:8080/",
          "height": 258
        },
        "id": "N7x6GEJgZRhY",
        "outputId": "e66fc86f-d798-4b47-852b-dd92d8cbfc69"
      },
      "source": [
        "dem = df[df['party']=='democrat']\n",
        "rep = df[df['party']=='republican']\n",
        "\n",
        "dem.head()"
      ],
      "execution_count": null,
      "outputs": [
        {
          "output_type": "execute_result",
          "data": {
            "text/html": [
              "<div>\n",
              "<style scoped>\n",
              "    .dataframe tbody tr th:only-of-type {\n",
              "        vertical-align: middle;\n",
              "    }\n",
              "\n",
              "    .dataframe tbody tr th {\n",
              "        vertical-align: top;\n",
              "    }\n",
              "\n",
              "    .dataframe thead th {\n",
              "        text-align: right;\n",
              "    }\n",
              "</style>\n",
              "<table border=\"1\" class=\"dataframe\">\n",
              "  <thead>\n",
              "    <tr style=\"text-align: right;\">\n",
              "      <th></th>\n",
              "      <th>party</th>\n",
              "      <th>handicapped-infants</th>\n",
              "      <th>water-project</th>\n",
              "      <th>budget</th>\n",
              "      <th>physician-fee-freeze</th>\n",
              "      <th>el-salvador-aid</th>\n",
              "      <th>religious-groups</th>\n",
              "      <th>anti-satellite-ban</th>\n",
              "      <th>aid-to-contras</th>\n",
              "      <th>mx-missile</th>\n",
              "      <th>immigration</th>\n",
              "      <th>synfuels</th>\n",
              "      <th>education</th>\n",
              "      <th>right-to-sue</th>\n",
              "      <th>crime</th>\n",
              "      <th>duty-free</th>\n",
              "      <th>south-africa</th>\n",
              "    </tr>\n",
              "  </thead>\n",
              "  <tbody>\n",
              "    <tr>\n",
              "      <th>2</th>\n",
              "      <td>democrat</td>\n",
              "      <td>NaN</td>\n",
              "      <td>1.0</td>\n",
              "      <td>1.0</td>\n",
              "      <td>NaN</td>\n",
              "      <td>1.0</td>\n",
              "      <td>1.0</td>\n",
              "      <td>0.0</td>\n",
              "      <td>0.0</td>\n",
              "      <td>0.0</td>\n",
              "      <td>0.0</td>\n",
              "      <td>1.0</td>\n",
              "      <td>0.0</td>\n",
              "      <td>1.0</td>\n",
              "      <td>1.0</td>\n",
              "      <td>0.0</td>\n",
              "      <td>0.0</td>\n",
              "    </tr>\n",
              "    <tr>\n",
              "      <th>3</th>\n",
              "      <td>democrat</td>\n",
              "      <td>0.0</td>\n",
              "      <td>1.0</td>\n",
              "      <td>1.0</td>\n",
              "      <td>0.0</td>\n",
              "      <td>NaN</td>\n",
              "      <td>1.0</td>\n",
              "      <td>0.0</td>\n",
              "      <td>0.0</td>\n",
              "      <td>0.0</td>\n",
              "      <td>0.0</td>\n",
              "      <td>1.0</td>\n",
              "      <td>0.0</td>\n",
              "      <td>1.0</td>\n",
              "      <td>0.0</td>\n",
              "      <td>0.0</td>\n",
              "      <td>1.0</td>\n",
              "    </tr>\n",
              "    <tr>\n",
              "      <th>4</th>\n",
              "      <td>democrat</td>\n",
              "      <td>1.0</td>\n",
              "      <td>1.0</td>\n",
              "      <td>1.0</td>\n",
              "      <td>0.0</td>\n",
              "      <td>1.0</td>\n",
              "      <td>1.0</td>\n",
              "      <td>0.0</td>\n",
              "      <td>0.0</td>\n",
              "      <td>0.0</td>\n",
              "      <td>0.0</td>\n",
              "      <td>1.0</td>\n",
              "      <td>NaN</td>\n",
              "      <td>1.0</td>\n",
              "      <td>1.0</td>\n",
              "      <td>1.0</td>\n",
              "      <td>1.0</td>\n",
              "    </tr>\n",
              "    <tr>\n",
              "      <th>5</th>\n",
              "      <td>democrat</td>\n",
              "      <td>0.0</td>\n",
              "      <td>1.0</td>\n",
              "      <td>1.0</td>\n",
              "      <td>0.0</td>\n",
              "      <td>1.0</td>\n",
              "      <td>1.0</td>\n",
              "      <td>0.0</td>\n",
              "      <td>0.0</td>\n",
              "      <td>0.0</td>\n",
              "      <td>0.0</td>\n",
              "      <td>0.0</td>\n",
              "      <td>0.0</td>\n",
              "      <td>1.0</td>\n",
              "      <td>1.0</td>\n",
              "      <td>1.0</td>\n",
              "      <td>1.0</td>\n",
              "    </tr>\n",
              "    <tr>\n",
              "      <th>6</th>\n",
              "      <td>democrat</td>\n",
              "      <td>0.0</td>\n",
              "      <td>1.0</td>\n",
              "      <td>0.0</td>\n",
              "      <td>1.0</td>\n",
              "      <td>1.0</td>\n",
              "      <td>1.0</td>\n",
              "      <td>0.0</td>\n",
              "      <td>0.0</td>\n",
              "      <td>0.0</td>\n",
              "      <td>0.0</td>\n",
              "      <td>0.0</td>\n",
              "      <td>0.0</td>\n",
              "      <td>NaN</td>\n",
              "      <td>1.0</td>\n",
              "      <td>1.0</td>\n",
              "      <td>1.0</td>\n",
              "    </tr>\n",
              "  </tbody>\n",
              "</table>\n",
              "</div>"
            ],
            "text/plain": [
              "      party  handicapped-infants  water-project  ...  crime  duty-free  south-africa\n",
              "2  democrat                  NaN            1.0  ...    1.0        0.0           0.0\n",
              "3  democrat                  0.0            1.0  ...    0.0        0.0           1.0\n",
              "4  democrat                  1.0            1.0  ...    1.0        1.0           1.0\n",
              "5  democrat                  0.0            1.0  ...    1.0        1.0           1.0\n",
              "6  democrat                  0.0            1.0  ...    1.0        1.0           1.0\n",
              "\n",
              "[5 rows x 17 columns]"
            ]
          },
          "metadata": {
            "tags": []
          },
          "execution_count": 35
        }
      ]
    },
    {
      "cell_type": "markdown",
      "metadata": {
        "id": "f20v73e3RLAV"
      },
      "source": [
        "### 2) Perform two sample T-tests on different issues and report the results.\n",
        "\n",
        "- Find an issue that democrats support more than republicans with p < 0.01 (significant at the 99% level).\n",
        "- Find an issue that republicans support more than democrats with p < 0.01 (significant at the 99% level).\n",
        "- Find an issue where the difference between republicans and democrats has p > 0.1 (Not significant at the 90% level - i.e. there may not be much of a difference the two sample means)\n",
        "\n",
        "Please for each test that you run state your null and alternative hypothesis and then write a conclusion reflecting on the null and alternative hypothesis.\n",
        "\n",
        "Remember, that two-sample t-tests will only tell us if the two groups are *different* from one another. We'll have to look at their sample means directly or use the sign on the t-statistic to know which of the two sample means is larger. "
      ]
    },
    {
      "cell_type": "markdown",
      "metadata": {
        "id": "D1LmxwYeT8j9"
      },
      "source": [
        "#Performing T-test on all 16 issues:"
      ]
    },
    {
      "cell_type": "markdown",
      "metadata": {
        "id": "0FyMR0qdRCd5"
      },
      "source": [
        "##Handicapped Infants:\n",
        "\n",
        "Null Hypothesis: The sample means will be equal.\n",
        "\n",
        "Alternative Hypothesis: The sample means will be different.\n",
        "\n",
        "Confidence Level: 99%"
      ]
    },
    {
      "cell_type": "code",
      "metadata": {
        "colab": {
          "base_uri": "https://localhost:8080/"
        },
        "id": "2emImnaRRBtl",
        "outputId": "5d235f46-f012-4400-bc73-250926d4c69e"
      },
      "source": [
        "stats.ttest_ind(dem['handicapped-infants'], rep['handicapped-infants'], nan_policy='omit')"
      ],
      "execution_count": null,
      "outputs": [
        {
          "output_type": "execute_result",
          "data": {
            "text/plain": [
              "Ttest_indResult(statistic=9.205264294809222, pvalue=1.613440327937243e-18)"
            ]
          },
          "metadata": {
            "tags": []
          },
          "execution_count": 18
        }
      ]
    },
    {
      "cell_type": "markdown",
      "metadata": {
        "id": "OsbzPl-fRmvW"
      },
      "source": [
        "The t-test is 9.205 and the p-value is 0.0000000000000000016. The chance that the null hypothesis is true is 0.00000000000000016%, therefore since it does not match my confidence level, I will reject my null hypothesis and assume that the alternative hypothesis is true: the sample means are different."
      ]
    },
    {
      "cell_type": "code",
      "metadata": {
        "colab": {
          "base_uri": "https://localhost:8080/"
        },
        "id": "oXlysYFMi1Z5",
        "outputId": "8fadf6bf-f968-47a2-daaa-4d3f48c1b59b"
      },
      "source": [
        "print(dem['handicapped-infants'].mean())\n",
        "print(rep['handicapped-infants'].mean())"
      ],
      "execution_count": null,
      "outputs": [
        {
          "output_type": "stream",
          "text": [
            "0.6046511627906976\n",
            "0.18787878787878787\n"
          ],
          "name": "stdout"
        }
      ]
    },
    {
      "cell_type": "markdown",
      "metadata": {
        "id": "VAZjY_DqjH_y"
      },
      "source": [
        "However, the t-statistic is positive (leaning more toward democrats) and the mean of democrats supporting this bill is higher, we can conclude that democrats do support the handicapped infants bill more than republicans."
      ]
    },
    {
      "cell_type": "markdown",
      "metadata": {
        "id": "XSrQ9FOWZzDd"
      },
      "source": [
        "###Water Project:\n",
        "\n",
        "Null Hypothesis: The sample means will be equal.\n",
        "\n",
        "Alternative Hypothesis: The sample means will be different.\n",
        "\n",
        "Confidence Level: 99%"
      ]
    },
    {
      "cell_type": "code",
      "metadata": {
        "id": "bCE3UgpbP69p",
        "colab": {
          "base_uri": "https://localhost:8080/"
        },
        "outputId": "1d62fba7-9337-4485-df76-bed8a62987f9"
      },
      "source": [
        "stats.ttest_ind(dem['water-project'], rep['water-project'], nan_policy='omit')"
      ],
      "execution_count": null,
      "outputs": [
        {
          "output_type": "execute_result",
          "data": {
            "text/plain": [
              "Ttest_indResult(statistic=-0.08896538137868286, pvalue=0.9291556823993485)"
            ]
          },
          "metadata": {
            "tags": []
          },
          "execution_count": 55
        }
      ]
    },
    {
      "cell_type": "code",
      "metadata": {
        "colab": {
          "base_uri": "https://localhost:8080/"
        },
        "id": "lmVxXqszjz8u",
        "outputId": "dc284e80-8e4b-411c-9111-598631c0b544"
      },
      "source": [
        "print(dem['water-project'].mean())\n",
        "print(rep['water-project'].mean())"
      ],
      "execution_count": null,
      "outputs": [
        {
          "output_type": "stream",
          "text": [
            "0.502092050209205\n",
            "0.5067567567567568\n"
          ],
          "name": "stdout"
        }
      ]
    },
    {
      "cell_type": "markdown",
      "metadata": {
        "id": "eIGN6mCxaVd2"
      },
      "source": [
        "The t-test is -0.0889 and the p-value is 0.929. The chance that the null hypothesis is true is 92.9%, therefore since it is not 99% or higher, I will reject my null hypothesis and assume that the alternative hypothesis is true.\n",
        "\n",
        "However, the t-statistic is in the negative, meaning the votes are more republicans. However, it is a small value leaning toward republicans, and if we look at the means for democrats and republicans, we can see that they support the water project about the same."
      ]
    },
    {
      "cell_type": "markdown",
      "metadata": {
        "id": "GkanNyHTc8bg"
      },
      "source": [
        "###Budget: \n",
        "\n",
        "Null Hypothesis: The sample means will be equal.\n",
        "\n",
        "Alternative Hypothesis: The sample means will be different.\n",
        "\n",
        "Confidence Level: 99%"
      ]
    },
    {
      "cell_type": "code",
      "metadata": {
        "colab": {
          "base_uri": "https://localhost:8080/"
        },
        "id": "UefLIBicdNu1",
        "outputId": "9ec8ad8e-da89-4351-c00f-8f90cc937663"
      },
      "source": [
        "stats.ttest_ind(dem['south-africa'], rep['south-africa'], nan_policy='omit')"
      ],
      "execution_count": null,
      "outputs": [
        {
          "output_type": "execute_result",
          "data": {
            "text/plain": [
              "Ttest_indResult(statistic=6.849454815841208, pvalue=3.652674361672226e-11)"
            ]
          },
          "metadata": {
            "tags": []
          },
          "execution_count": 70
        }
      ]
    },
    {
      "cell_type": "code",
      "metadata": {
        "colab": {
          "base_uri": "https://localhost:8080/"
        },
        "id": "7oFa0DqtkSwS",
        "outputId": "76bc49f8-574e-4a7a-8a88-f7d201ee85f8"
      },
      "source": [
        "print(dem['budget'].mean())\n",
        "print(rep['budget'].mean())"
      ],
      "execution_count": null,
      "outputs": [
        {
          "output_type": "stream",
          "text": [
            "0.8884615384615384\n",
            "0.13414634146341464\n"
          ],
          "name": "stdout"
        }
      ]
    },
    {
      "cell_type": "markdown",
      "metadata": {
        "id": "urHZNv0MTn3n"
      },
      "source": [
        "The t-statistic is 6.849 and the p-value is 0.0000000000355. Therefore the chance that the null hypothesis is true is 0.00000000355%, I will reject my null hypothesis and assume that the alternative hypothesis is true: the sample means are different.\n",
        "\n",
        "However, since the t-statistic is postive and when looking at the means for republicans and democrats who support this bill, we can conclude that democrats support budget more than republicans. "
      ]
    },
    {
      "cell_type": "markdown",
      "metadata": {
        "id": "elcC04l2ULA0"
      },
      "source": [
        "##Physician Fee Freeze:\n",
        "\n",
        "Null Hypothesis: The sample means will be equal.\n",
        "\n",
        "Alternative Hypothesis: The sample means will be different.\n",
        "\n",
        "Confidence Level: 99%"
      ]
    },
    {
      "cell_type": "code",
      "metadata": {
        "colab": {
          "base_uri": "https://localhost:8080/"
        },
        "id": "m13t2eTNUYZS",
        "outputId": "59dd3a2e-b9f5-484c-d184-3fcffa3411e0"
      },
      "source": [
        "stats.ttest_ind(dem['physician-fee-freeze'], rep['physician-fee-freeze'], nan_policy='omit')"
      ],
      "execution_count": null,
      "outputs": [
        {
          "output_type": "execute_result",
          "data": {
            "text/plain": [
              "Ttest_indResult(statistic=-49.36708157301406, pvalue=1.994262314074344e-177)"
            ]
          },
          "metadata": {
            "tags": []
          },
          "execution_count": 19
        }
      ]
    },
    {
      "cell_type": "code",
      "metadata": {
        "colab": {
          "base_uri": "https://localhost:8080/"
        },
        "id": "L7G_csvWk_Pf",
        "outputId": "9bf805d8-180a-43f1-a8c5-731e81777c68"
      },
      "source": [
        "print(dem['physician-fee-freeze'].mean())\n",
        "print(rep['physician-fee-freeze'].mean())"
      ],
      "execution_count": null,
      "outputs": [
        {
          "output_type": "stream",
          "text": [
            "0.05405405405405406\n",
            "0.9878787878787879\n"
          ],
          "name": "stdout"
        }
      ]
    },
    {
      "cell_type": "markdown",
      "metadata": {
        "id": "3lBkpxEEUVVx"
      },
      "source": [
        "The t-statistic is -49.367 and the p-value is 0. Therefore the chance that the null hypothesis is true is 0%, I will reject my null hypothesis and assume that the alternative hypothesis is true: the sample means are different. \n",
        "\n",
        "Looking at the t-statistic and the sample means for republicans and democrats, we can conclude that the republicans support the physician fee freeze more than republicans."
      ]
    },
    {
      "cell_type": "markdown",
      "metadata": {
        "id": "-0j5RkW1U9Lo"
      },
      "source": [
        "##El Salvador Aid:\n",
        "\n",
        "Null Hypothesis: The sample means will be equal.\n",
        "\n",
        "Alternative Hypothesis: The sample means will be different.\n",
        "\n",
        "Confidence Level: 99%"
      ]
    },
    {
      "cell_type": "code",
      "metadata": {
        "colab": {
          "base_uri": "https://localhost:8080/"
        },
        "id": "mFZcGZnwU9bp",
        "outputId": "8ce17fae-05af-49ba-a43b-e7d845cb4834"
      },
      "source": [
        "stats.ttest_ind(dem['el-salvador-aid'], rep['el-salvador-aid'], nan_policy='omit')"
      ],
      "execution_count": null,
      "outputs": [
        {
          "output_type": "execute_result",
          "data": {
            "text/plain": [
              "Ttest_indResult(statistic=-21.13669261173219, pvalue=5.600520111729011e-68)"
            ]
          },
          "metadata": {
            "tags": []
          },
          "execution_count": 20
        }
      ]
    },
    {
      "cell_type": "code",
      "metadata": {
        "colab": {
          "base_uri": "https://localhost:8080/"
        },
        "id": "vt_KlOM9lMt5",
        "outputId": "8c3818ae-a57e-4f3e-fcab-4a048ab54902"
      },
      "source": [
        "print(dem['el-salvador-aid'].mean())\n",
        "print(rep['el-salvador-aid'].mean())"
      ],
      "execution_count": null,
      "outputs": [
        {
          "output_type": "stream",
          "text": [
            "0.21568627450980393\n",
            "0.9515151515151515\n"
          ],
          "name": "stdout"
        }
      ]
    },
    {
      "cell_type": "markdown",
      "metadata": {
        "id": "1VfPFMi2U9qT"
      },
      "source": [
        "The t-statistic is -21.137 and the p-value is 0. Therefore the chance that the null hypothesis is true is 0%, I will reject my null hypothesis and assume that the alternative hypothesis is true: the sample means are different.\n",
        "\n",
        "Looking at the t-statistic and the sample means for republicans and democrats, we can conclude that republicans do support El Salvador aid more than democrats."
      ]
    },
    {
      "cell_type": "markdown",
      "metadata": {
        "id": "B415OWgybDoX"
      },
      "source": [
        "###Religious Groups:\n",
        "\n",
        "Null Hypothesis: The sample means will be equal.\n",
        "\n",
        "Alternative Hypothesis: The sample means will be different.\n",
        "\n",
        "Confidence Level: 99%"
      ]
    },
    {
      "cell_type": "code",
      "metadata": {
        "colab": {
          "base_uri": "https://localhost:8080/"
        },
        "id": "bvwYUqHYbV78",
        "outputId": "afdceafe-ae2b-44d0-cb5a-1b8a080c6e53"
      },
      "source": [
        "stats.ttest_ind(dem['religious-groups'], rep['religious-groups'], nan_policy='omit')"
      ],
      "execution_count": null,
      "outputs": [
        {
          "output_type": "execute_result",
          "data": {
            "text/plain": [
              "Ttest_indResult(statistic=-9.737575825219457, pvalue=2.3936722520597287e-20)"
            ]
          },
          "metadata": {
            "tags": []
          },
          "execution_count": 62
        }
      ]
    },
    {
      "cell_type": "code",
      "metadata": {
        "colab": {
          "base_uri": "https://localhost:8080/"
        },
        "id": "jrFgWhjllhuf",
        "outputId": "6b0e50c2-8cd9-4b8f-e39b-0fca0285192b"
      },
      "source": [
        "print(dem['religious-groups'].mean())\n",
        "print(rep['religious-groups'].mean())"
      ],
      "execution_count": null,
      "outputs": [
        {
          "output_type": "stream",
          "text": [
            "0.47674418604651164\n",
            "0.8975903614457831\n"
          ],
          "name": "stdout"
        }
      ]
    },
    {
      "cell_type": "markdown",
      "metadata": {
        "id": "xSDQ8tk5b9mn"
      },
      "source": [
        "The t-statistic is -9.737 and the p-value is 0.0000000000000000000239. The chance that the null hypothesis is true is 0.00000000000000000239%. Therefore I will reject the null hypothesis and assume that the sample means are different.\n",
        "\n",
        "Looking at the t-statistic and the sample means, we can conclude that republicans do support religious groups more than democrats."
      ]
    },
    {
      "cell_type": "markdown",
      "metadata": {
        "id": "gtvEXhBlLoZx"
      },
      "source": [
        "##Anti Satellite Ban:\n",
        "\n",
        "Null Hypothesis: The sample means will be equal.\n",
        "\n",
        "Alternative Hypothesis: The sample means will be different.\n",
        "\n",
        "Confidence Level: 99%"
      ]
    },
    {
      "cell_type": "code",
      "metadata": {
        "colab": {
          "base_uri": "https://localhost:8080/"
        },
        "id": "pcHcO7EgVrC9",
        "outputId": "38029264-8c2e-48e6-c960-2ee765d08dd2"
      },
      "source": [
        "stats.ttest_ind(dem['anti-satellite-ban'], rep['anti-satellite-ban'], nan_policy='omit')"
      ],
      "execution_count": null,
      "outputs": [
        {
          "output_type": "execute_result",
          "data": {
            "text/plain": [
              "Ttest_indResult(statistic=12.526187929077842, pvalue=8.521033017443867e-31)"
            ]
          },
          "metadata": {
            "tags": []
          },
          "execution_count": 21
        }
      ]
    },
    {
      "cell_type": "code",
      "metadata": {
        "colab": {
          "base_uri": "https://localhost:8080/"
        },
        "id": "cX8GtRoolvlB",
        "outputId": "64988617-af64-4ea9-a007-3557fb987379"
      },
      "source": [
        "print(dem['anti-satellite-ban'].mean())\n",
        "print(rep['anti-satellite-ban'].mean())"
      ],
      "execution_count": null,
      "outputs": [
        {
          "output_type": "stream",
          "text": [
            "0.7722007722007722\n",
            "0.24074074074074073\n"
          ],
          "name": "stdout"
        }
      ]
    },
    {
      "cell_type": "markdown",
      "metadata": {
        "id": "oVeJRaNdVrSC"
      },
      "source": [
        "The t-statistic is 12.526 and the p-value is 0. The chance that the null hypothesis is true is 0%. Therefore I will reject the null hypothesis and assume that the sample means are different.\n",
        "\n",
        "However, looking at the t-statistic and the sample means, we can conclude that democrats do support the anti-satellite ban more than republicans."
      ]
    },
    {
      "cell_type": "markdown",
      "metadata": {
        "id": "FLaDZJWNV_m-"
      },
      "source": [
        "##Aid to Contras:\n",
        "\n",
        "Null Hypothesis: The sample means will be equal.\n",
        "\n",
        "Alternative Hypothesis: The sample means will be different.\n",
        "\n",
        "Confidence Level: 99%"
      ]
    },
    {
      "cell_type": "code",
      "metadata": {
        "colab": {
          "base_uri": "https://localhost:8080/"
        },
        "id": "QwP4dc7MV_5J",
        "outputId": "34b8073d-726c-464b-ca87-0c0ba07ba3e5"
      },
      "source": [
        "stats.ttest_ind(dem['aid-to-contras'], rep['aid-to-contras'], nan_policy='omit')"
      ],
      "execution_count": null,
      "outputs": [
        {
          "output_type": "execute_result",
          "data": {
            "text/plain": [
              "Ttest_indResult(statistic=18.052093200819733, pvalue=2.82471841372357e-54)"
            ]
          },
          "metadata": {
            "tags": []
          },
          "execution_count": 22
        }
      ]
    },
    {
      "cell_type": "code",
      "metadata": {
        "colab": {
          "base_uri": "https://localhost:8080/"
        },
        "id": "jbcCiuPJl9IL",
        "outputId": "47aa86c1-8754-4de2-c73d-28d1549de98f"
      },
      "source": [
        "print(dem['aid-to-contras'].mean())\n",
        "print(rep['aid-to-contras'].mean())"
      ],
      "execution_count": null,
      "outputs": [
        {
          "output_type": "stream",
          "text": [
            "0.8288973384030418\n",
            "0.15286624203821655\n"
          ],
          "name": "stdout"
        }
      ]
    },
    {
      "cell_type": "markdown",
      "metadata": {
        "id": "DWe5-Tv3WAJb"
      },
      "source": [
        "The t-statistic is 18.052 and the p-value is 0. The chance that the null hypothesis is true is 0%. Therefore I will reject the null hypothesis and assume that the sample means are different.\n",
        "\n",
        "However, looking at the t-statistic and the sample means, we can conclude that democrats do support aid to contras more than republicans."
      ]
    },
    {
      "cell_type": "markdown",
      "metadata": {
        "id": "GBkie99FZWM7"
      },
      "source": [
        "##Mx Missile:\n",
        "\n",
        "Null Hypothesis: The sample means will be equal.\n",
        "\n",
        "Alternative Hypothesis: The sample means will be different.\n",
        "\n",
        "Confidence Level: 99%"
      ]
    },
    {
      "cell_type": "code",
      "metadata": {
        "colab": {
          "base_uri": "https://localhost:8080/"
        },
        "id": "QDavNXEuZWw-",
        "outputId": "57a611f3-5c08-4dfe-a85b-b4fbdf2676e9"
      },
      "source": [
        "stats.ttest_ind(dem['mx-missile'], rep['mx-missile'], nan_policy='omit')"
      ],
      "execution_count": null,
      "outputs": [
        {
          "output_type": "execute_result",
          "data": {
            "text/plain": [
              "Ttest_indResult(statistic=16.437503268542994, pvalue=5.03079265310811e-47)"
            ]
          },
          "metadata": {
            "tags": []
          },
          "execution_count": 23
        }
      ]
    },
    {
      "cell_type": "code",
      "metadata": {
        "colab": {
          "base_uri": "https://localhost:8080/"
        },
        "id": "dqwO4LnGnLf5",
        "outputId": "07da9ab3-2680-44d5-fa11-aca9925d8d3f"
      },
      "source": [
        "print(dem['mx-missile'].mean())\n",
        "print(rep['mx-missile'].mean())"
      ],
      "execution_count": null,
      "outputs": [
        {
          "output_type": "stream",
          "text": [
            "0.7580645161290323\n",
            "0.11515151515151516\n"
          ],
          "name": "stdout"
        }
      ]
    },
    {
      "cell_type": "markdown",
      "metadata": {
        "id": "Jg5rjACuZXDe"
      },
      "source": [
        "The t-statistic is 16.438 and the p-value is 0. The chance that the null hypothesis is true is 0%. Therefore I will reject the null hypothesis and assume that the sample means are different. \n",
        "\n",
        "Looking at the t-statistic and the sample means, we can conclude that the democrats support mx missile more than republicans."
      ]
    },
    {
      "cell_type": "markdown",
      "metadata": {
        "id": "jMfS9hxMZxQJ"
      },
      "source": [
        "##Immigration:\n",
        "\n",
        "Null Hypothesis: The sample means will be equal.\n",
        "\n",
        "Alternative Hypothesis: The sample means will be different.\n",
        "\n",
        "Confidence Level: 99%"
      ]
    },
    {
      "cell_type": "code",
      "metadata": {
        "colab": {
          "base_uri": "https://localhost:8080/"
        },
        "id": "8Htw___XZxs3",
        "outputId": "15eb3ad5-d667-45f6-cd3b-df28d4cfd595"
      },
      "source": [
        "stats.ttest_ind(dem['immigration'], rep['immigration'], nan_policy='omit')"
      ],
      "execution_count": null,
      "outputs": [
        {
          "output_type": "execute_result",
          "data": {
            "text/plain": [
              "Ttest_indResult(statistic=-1.7359117329695164, pvalue=0.08330248490425066)"
            ]
          },
          "metadata": {
            "tags": []
          },
          "execution_count": 24
        }
      ]
    },
    {
      "cell_type": "code",
      "metadata": {
        "colab": {
          "base_uri": "https://localhost:8080/"
        },
        "id": "3MBkB0A-nbsk",
        "outputId": "8113755c-69a2-4d28-cd3b-2ff61937f426"
      },
      "source": [
        "print(dem['immigration'].mean())\n",
        "print(rep['immigration'].mean())"
      ],
      "execution_count": null,
      "outputs": [
        {
          "output_type": "stream",
          "text": [
            "0.4714828897338403\n",
            "0.5575757575757576\n"
          ],
          "name": "stdout"
        }
      ]
    },
    {
      "cell_type": "markdown",
      "metadata": {
        "id": "cWrSsTlDZyOE"
      },
      "source": [
        "The t-statistic is -1.736 and the p-value is 0.083. The chance that the null hypothesis is true is 8.3%. Therefore I will reject the null hypothesis and assume that the sample means are different.\n",
        "\n",
        "Looking at the t-statistic and the sample means, we can conclude that the republicans support immigration a bit more than democrats."
      ]
    },
    {
      "cell_type": "markdown",
      "metadata": {
        "id": "VhMZ2S8UbB7p"
      },
      "source": [
        "##Synfuels:\n",
        "\n",
        "Null Hypothesis: The sample means will be equal.\n",
        "\n",
        "Alternative Hypothesis: The sample means will be different.\n",
        "\n",
        "Confidence Level: 99%"
      ]
    },
    {
      "cell_type": "code",
      "metadata": {
        "colab": {
          "base_uri": "https://localhost:8080/"
        },
        "id": "fbkD-7jGbCK0",
        "outputId": "63db06ed-ba4b-4306-ccbf-3119921a2049"
      },
      "source": [
        "stats.ttest_ind(dem['synfuels'], rep['synfuels'], nan_policy='omit')"
      ],
      "execution_count": null,
      "outputs": [
        {
          "output_type": "execute_result",
          "data": {
            "text/plain": [
              "Ttest_indResult(statistic=8.293603989407588, pvalue=1.5759322301054064e-15)"
            ]
          },
          "metadata": {
            "tags": []
          },
          "execution_count": 25
        }
      ]
    },
    {
      "cell_type": "code",
      "metadata": {
        "colab": {
          "base_uri": "https://localhost:8080/"
        },
        "id": "O-gyTgcWn34S",
        "outputId": "aa9f94b4-5a4e-4a6a-ca53-80e6806a3dbb"
      },
      "source": [
        "print(dem['synfuels'].mean())\n",
        "print(rep['synfuels'].mean())"
      ],
      "execution_count": null,
      "outputs": [
        {
          "output_type": "stream",
          "text": [
            "0.5058823529411764\n",
            "0.1320754716981132\n"
          ],
          "name": "stdout"
        }
      ]
    },
    {
      "cell_type": "markdown",
      "metadata": {
        "id": "0qKRrl3ibCfG"
      },
      "source": [
        "The t-statistic is 8.294 and the p-value is 0.00000000000000158. The chance that the null hypothesis is true is 0.0000000000000158%. Therefore I will reject the null hypothesis and assume that the sample means are different.\n",
        "\n",
        "Looking at the t-statistic and the sample means, we can conclude that democrats support synfuels more than republicans."
      ]
    },
    {
      "cell_type": "markdown",
      "metadata": {
        "id": "UU9y9dvqbdQx"
      },
      "source": [
        "##Education:\n",
        "\n",
        "Null Hypothesis: The sample means will be equal.\n",
        "\n",
        "Alternative Hypothesis: The sample means will be different.\n",
        "\n",
        "Confidence Level: 99%"
      ]
    },
    {
      "cell_type": "code",
      "metadata": {
        "colab": {
          "base_uri": "https://localhost:8080/"
        },
        "id": "Q4IqjXhNbdhd",
        "outputId": "54c5aeb0-8fb1-4c2e-a27d-f59945687f18"
      },
      "source": [
        "stats.ttest_ind(dem['education'], rep['education'], nan_policy='omit')"
      ],
      "execution_count": null,
      "outputs": [
        {
          "output_type": "execute_result",
          "data": {
            "text/plain": [
              "Ttest_indResult(statistic=-20.500685724563073, pvalue=1.8834203990450192e-64)"
            ]
          },
          "metadata": {
            "tags": []
          },
          "execution_count": 27
        }
      ]
    },
    {
      "cell_type": "code",
      "metadata": {
        "colab": {
          "base_uri": "https://localhost:8080/"
        },
        "id": "V7BZIp-soHm3",
        "outputId": "bd6f0eda-3f27-4d91-9f42-8a8c5e7d5fa2"
      },
      "source": [
        "print(dem['education'].mean())\n",
        "print(rep['education'].mean())"
      ],
      "execution_count": null,
      "outputs": [
        {
          "output_type": "stream",
          "text": [
            "0.14457831325301204\n",
            "0.8709677419354839\n"
          ],
          "name": "stdout"
        }
      ]
    },
    {
      "cell_type": "markdown",
      "metadata": {
        "id": "DSVeo9Dlbdy6"
      },
      "source": [
        "The t-statistic is -20.5 and the p-value is 0. The chance that the null hypothesis is true is 0%. Therefore I will reject the null hypothesis and assume that the sample means are different.\n",
        "\n",
        "Looking at the t-statistic and the sample means, we can conlude that republicans support education more than democrats."
      ]
    },
    {
      "cell_type": "markdown",
      "metadata": {
        "id": "QhAJhm0Zbz8X"
      },
      "source": [
        "##Right to Sue:\n",
        "\n",
        "Null Hypothesis: The sample means will be equal.\n",
        "\n",
        "Alternative Hypothesis: The sample means will be different.\n",
        "\n",
        "Confidence Level: 99%"
      ]
    },
    {
      "cell_type": "code",
      "metadata": {
        "colab": {
          "base_uri": "https://localhost:8080/"
        },
        "id": "iH2W0Rxob0SQ",
        "outputId": "f50d0d63-7f48-4541-faee-99f2462b032d"
      },
      "source": [
        "stats.ttest_ind(dem['right-to-sue'], rep['right-to-sue'], nan_policy='omit')"
      ],
      "execution_count": null,
      "outputs": [
        {
          "output_type": "execute_result",
          "data": {
            "text/plain": [
              "Ttest_indResult(statistic=-13.51064251060933, pvalue=1.2278581709672758e-34)"
            ]
          },
          "metadata": {
            "tags": []
          },
          "execution_count": 30
        }
      ]
    },
    {
      "cell_type": "code",
      "metadata": {
        "colab": {
          "base_uri": "https://localhost:8080/"
        },
        "id": "oh9hfjrgoYty",
        "outputId": "44a2ba0c-036f-4fc7-c3e6-0dff5c27a25f"
      },
      "source": [
        "print(dem['right-to-sue'].mean())\n",
        "print(rep['right-to-sue'].mean())"
      ],
      "execution_count": null,
      "outputs": [
        {
          "output_type": "stream",
          "text": [
            "0.2896825396825397\n",
            "0.8607594936708861\n"
          ],
          "name": "stdout"
        }
      ]
    },
    {
      "cell_type": "markdown",
      "metadata": {
        "id": "qeVNHRS0b0me"
      },
      "source": [
        "The t-statistic is -13.51 and the p-value is 0. The chance that the null hypothesis is true is 0%. Therefore I will reject the null hypothesis and assume that the sample means will be different.\n",
        "\n",
        "Looking at the t-statistic and the sample means, we can conclude that republicans support right to sue more than democrats."
      ]
    },
    {
      "cell_type": "markdown",
      "metadata": {
        "id": "8RqF3lnGcMfZ"
      },
      "source": [
        "##Crime:\n",
        "\n",
        "Null Hypothesis: The sample means will be equal.\n",
        "\n",
        "Alternative Hypothesis: The sample means will be different.\n",
        "\n",
        "Confidence Level: 99%"
      ]
    },
    {
      "cell_type": "code",
      "metadata": {
        "colab": {
          "base_uri": "https://localhost:8080/"
        },
        "id": "REu7zGv1cMzH",
        "outputId": "2bb07e59-ca47-443e-97df-9bf61de4b0ff"
      },
      "source": [
        "stats.ttest_ind(dem['crime'], rep['crime'], nan_policy='omit')"
      ],
      "execution_count": null,
      "outputs": [
        {
          "output_type": "execute_result",
          "data": {
            "text/plain": [
              "Ttest_indResult(statistic=-16.342085656197696, pvalue=9.952342705606092e-47)"
            ]
          },
          "metadata": {
            "tags": []
          },
          "execution_count": 31
        }
      ]
    },
    {
      "cell_type": "code",
      "metadata": {
        "colab": {
          "base_uri": "https://localhost:8080/"
        },
        "id": "MjJAm3OZof1D",
        "outputId": "c8d241d9-7567-43b6-ce29-13b406edc744"
      },
      "source": [
        "print(dem['crime'].mean())\n",
        "print(rep['crime'].mean())"
      ],
      "execution_count": null,
      "outputs": [
        {
          "output_type": "stream",
          "text": [
            "0.35019455252918286\n",
            "0.9813664596273292\n"
          ],
          "name": "stdout"
        }
      ]
    },
    {
      "cell_type": "markdown",
      "metadata": {
        "id": "mmRNmHwScNEw"
      },
      "source": [
        "The t-statistic is -16.342 and the p-value is 0. The chance that the null hypothesis is true is 0%. Therefore I will reject the null hypothesis and assume that the sample means will be different.\n",
        "\n",
        "Looking at the t-statistic and the sample means, we can conclude that republicans support crime more than democrats."
      ]
    },
    {
      "cell_type": "markdown",
      "metadata": {
        "id": "EX9D4wdaciM5"
      },
      "source": [
        "##Duty Free:\n",
        "\n",
        "Null Hypothesis: The sample means will be equal.\n",
        "\n",
        "Alternative Hypothesis: The sample means will be different.\n",
        "\n",
        "Confidence Level: 99%"
      ]
    },
    {
      "cell_type": "code",
      "metadata": {
        "colab": {
          "base_uri": "https://localhost:8080/"
        },
        "id": "K14AC-n4cigq",
        "outputId": "d6e1f10f-18cd-496e-8076-86d6f90643f5"
      },
      "source": [
        "stats.ttest_ind(dem['duty-free'], rep['duty-free'], nan_policy='omit')"
      ],
      "execution_count": null,
      "outputs": [
        {
          "output_type": "execute_result",
          "data": {
            "text/plain": [
              "Ttest_indResult(statistic=12.853146132542978, pvalue=5.997697174347365e-32)"
            ]
          },
          "metadata": {
            "tags": []
          },
          "execution_count": 32
        }
      ]
    },
    {
      "cell_type": "code",
      "metadata": {
        "colab": {
          "base_uri": "https://localhost:8080/"
        },
        "id": "RCKNtnUKot89",
        "outputId": "5e7b5049-6237-438e-8217-c762e7951df2"
      },
      "source": [
        "print(dem['duty-free'].mean())\n",
        "print(rep['duty-free'].mean())"
      ],
      "execution_count": null,
      "outputs": [
        {
          "output_type": "stream",
          "text": [
            "0.6374501992031872\n",
            "0.08974358974358974\n"
          ],
          "name": "stdout"
        }
      ]
    },
    {
      "cell_type": "markdown",
      "metadata": {
        "id": "Zze1CdFhci2T"
      },
      "source": [
        "The t-statistic is 12.853 and the p-value is 0. The chance that the null hypothesis is true is 0%. Therefore I will reject the null hypothesis and assume that the sample means will be different.\n",
        "\n",
        "Looking at the t-statistic and the sample means, we can conlude that democrats support duty free more than republicans."
      ]
    },
    {
      "cell_type": "markdown",
      "metadata": {
        "id": "EMQyI7Tpc6ES"
      },
      "source": [
        "##South Africa:\n",
        "\n",
        "Null Hypothesis: The sample means will be equal.\n",
        "\n",
        "Alternative Hypothesis: The sample means will be different.\n",
        "\n",
        "Confidence Level: 99%"
      ]
    },
    {
      "cell_type": "code",
      "metadata": {
        "colab": {
          "base_uri": "https://localhost:8080/"
        },
        "id": "Zr_D8JeYc6ib",
        "outputId": "37e394f2-1512-4544-bd9a-6cdeec361364"
      },
      "source": [
        "stats.ttest_ind(dem['south-africa'], rep['south-africa'], nan_policy='omit')"
      ],
      "execution_count": null,
      "outputs": [
        {
          "output_type": "execute_result",
          "data": {
            "text/plain": [
              "Ttest_indResult(statistic=6.849454815841208, pvalue=3.652674361672226e-11)"
            ]
          },
          "metadata": {
            "tags": []
          },
          "execution_count": 33
        }
      ]
    },
    {
      "cell_type": "code",
      "metadata": {
        "colab": {
          "base_uri": "https://localhost:8080/"
        },
        "id": "GC2Sh-Iso-Tw",
        "outputId": "3e2c84fe-3cdb-4ef0-b5a3-0e001f1f37d3"
      },
      "source": [
        "print(dem['south-africa'].mean())\n",
        "print(rep['south-africa'].mean())"
      ],
      "execution_count": null,
      "outputs": [
        {
          "output_type": "stream",
          "text": [
            "0.9351351351351351\n",
            "0.6575342465753424\n"
          ],
          "name": "stdout"
        }
      ]
    },
    {
      "cell_type": "markdown",
      "metadata": {
        "id": "-Re0dEP5c8Ak"
      },
      "source": [
        "The t-statistic is 6.849 and the p-value is 0.0000000000365. The chance that the null hypothesis is true is 0.00000000365%. Therefore I will reject the null hypothesis and assume that the sample means will be different.\n",
        "\n",
        "Looking at the t-statistic and the sample means, we can conclude that democrats support south africa more than republicans."
      ]
    },
    {
      "cell_type": "markdown",
      "metadata": {
        "id": "WJjXXxNIpMey"
      },
      "source": [
        "#Conclusion:\n",
        "\n",
        "Democrats support more than republicans with p < 0.01 (significant at the 99% level):\n",
        "*  Handicapped Infants\n",
        "*  Budget\n",
        "*  Anti Satellite Ban\n",
        "*  Aid to Contras\n",
        "*  Mx Missile\n",
        "*  Synfuels\n",
        "*  Duty Free\n",
        "*  South Africa\n",
        "\n",
        "Republicans support more than democrats with p < 0.01 (significant at the 99% level):\n",
        "*  Physician Fee Freeze\n",
        "*  El Salvador Aid\n",
        "*  Religious Groups\n",
        "*  Immigration\n",
        "*  Education\n",
        "*  Right to Sue\n",
        "*  Crime\n",
        "\n",
        "Difference between republicans and democrats has p > 0.1 (Not significant at the 90% level - i.e. there may not be much of a difference the two sample means):\n",
        "*  Water Project"
      ]
    },
    {
      "cell_type": "markdown",
      "metadata": {
        "id": "C5pkmOuKgK9Y"
      },
      "source": [
        "# Stretch Goals:\n",
        "\n",
        "### 1) Use functions and some iterator (for loop, .apply(), list comprehension, etc.) to perform two sample t-tests on every issue in the dataset in an automated fashion."
      ]
    },
    {
      "cell_type": "code",
      "metadata": {
        "id": "z7c7K322gLeN"
      },
      "source": [
        ""
      ],
      "execution_count": null,
      "outputs": []
    },
    {
      "cell_type": "markdown",
      "metadata": {
        "id": "wcA_AvvRAqW_"
      },
      "source": [
        "\n",
        "\n",
        "### 2) Work on Performing a T-test without using Scipy in order to get \"under the hood\" and learn more thoroughly about this topic.\n",
        "### Start with a 1-sample t-test\n",
        " - Establish the conditions for your test \n",
        " - [Calculate the T Statistic](https://blog.minitab.com/hs-fs/hubfs/Imported_Blog_Media/701f9c0efa98a38fb397f3c3ec459b66.png?width=247&height=172&name=701f9c0efa98a38fb397f3c3ec459b66.png) (You'll need to omit NaN values from your sample).\n",
        " - Translate that t-statistic into a P-value. You can use a [table](https://www.google.com/search?q=t+statistic+table) or the [University of Iowa Applet](https://homepage.divms.uiowa.edu/~mbognar/applets/t.html)\n",
        "\n",
        "### Be sure to check your work using Scipy!\n",
        "\n",
        "\n",
        "\n"
      ]
    },
    {
      "cell_type": "code",
      "metadata": {
        "id": "3pdMy-KoPjoM"
      },
      "source": [
        "### YOUR WORK HERE"
      ],
      "execution_count": null,
      "outputs": []
    },
    {
      "cell_type": "markdown",
      "metadata": {
        "id": "3114xDdlPjFx"
      },
      "source": [
        "### 3) Then try a 2-sample t-test\n",
        " - Establish the conditions for your test \n",
        " - [Calculate the T Statistic](https://lh3.googleusercontent.com/proxy/rJJ5ZOL9ZDvKOOeBihXoZDgfk7uv1YsRzSQ1Tc10RX-r2HrRpRLVqlE9CWX23csYQXcTniFwlBg3H-qR8MKJPBGnjwndqlhDX3JxoDE5Yg) (You'll need to omit NaN values from your sample).\n",
        " - Translate that t-statistic into a P-value. You can use a [table](https://www.google.com/search?q=t+statistic+table) or the [University of Iowa Applet](https://homepage.divms.uiowa.edu/~mbognar/applets/t.html)\n",
        "\n",
        " ### Be sure to check your work using Scipy!"
      ]
    },
    {
      "cell_type": "code",
      "metadata": {
        "id": "dPmXOHh1Cfea"
      },
      "source": [
        "### YOUR WORK HERE"
      ],
      "execution_count": null,
      "outputs": []
    }
  ]
}