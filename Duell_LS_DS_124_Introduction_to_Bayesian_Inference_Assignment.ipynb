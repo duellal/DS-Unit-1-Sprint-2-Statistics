{
  "nbformat": 4,
  "nbformat_minor": 0,
  "metadata": {
    "colab": {
      "name": "Copy of LS_DS_124_Introduction_to_Bayesian_Inference_Assignment.ipynb",
      "provenance": [],
      "collapsed_sections": [],
      "include_colab_link": true
    },
    "kernelspec": {
      "name": "python3",
      "display_name": "Python 3"
    }
  },
  "cells": [
    {
      "cell_type": "markdown",
      "metadata": {
        "id": "view-in-github",
        "colab_type": "text"
      },
      "source": [
        "<a href=\"https://colab.research.google.com/github/duellal/DS-Unit-1-Sprint-2-Statistics/blob/master/Duell_LS_DS_124_Introduction_to_Bayesian_Inference_Assignment.ipynb\" target=\"_parent\"><img src=\"https://colab.research.google.com/assets/colab-badge.svg\" alt=\"Open In Colab\"/></a>"
      ]
    },
    {
      "cell_type": "markdown",
      "metadata": {
        "id": "H7OLbevlbd_Z"
      },
      "source": [
        "# Lambda School Data Science Module 124\n",
        "\n",
        "## Introduction to Bayesian Inference\n",
        "\n",
        "\n"
      ]
    },
    {
      "cell_type": "markdown",
      "metadata": {
        "id": "P-DzzRk5bf0z"
      },
      "source": [
        "## Assignment - Code it up!\n",
        "\n",
        "We used pure math to apply Bayes Theorem to drug tests. Now write Python code to reproduce the results! This is purposefully open ended - you'll have to think about how you should represent probabilities and events. You can and should look things up.\n",
        "\n",
        "Specific goals/targets:\n",
        "\n",
        "### 1) Write a function \n",
        "\n",
        "`def prob_drunk_given_positive(prob_drunk_prior, false_positive_rate, true_positive_rate):` \n",
        "\n",
        "You should only truly need these three values in order to apply Bayes Theorem. In this example, imagine that individuals are taking a breathalyzer test with an 8% false positive rate, a 100% true positive rate, and that our prior belief about drunk driving in the population is 1/1000. \n",
        " - What is the probability that a person is drunk after one positive breathalyzer test?\n",
        " - What is the probability that a person is drunk after two positive breathalyzer tests?\n",
        " - How many positive breathalyzer tests are needed in order to have a probability that's greater than 95% that a person is drunk beyond the legal limit?\n"
      ]
    },
    {
      "cell_type": "code",
      "metadata": {
        "id": "xpVhZyUnbf7o"
      },
      "source": [
        "def prob_drunk_positive(prob_drunk_prior, false_pos_rate = .08, true_pos_rate = 1):\n",
        "  population = (1-prob_drunk_prior)\n",
        "  numerator = (true_pos_rate * prob_drunk_prior)\n",
        "  denom = ((true_pos_rate * prob_drunk_prior) + (false_pos_rate * population))\n",
        "  return numerator/denom"
      ],
      "execution_count": null,
      "outputs": []
    },
    {
      "cell_type": "code",
      "metadata": {
        "colab": {
          "base_uri": "https://localhost:8080/"
        },
        "id": "BQRxZFI2ekAX",
        "outputId": "1b8f97df-176e-4c14-e70d-25f044b7eef6"
      },
      "source": [
        "prob_drunk_positive(.001)"
      ],
      "execution_count": null,
      "outputs": [
        {
          "output_type": "execute_result",
          "data": {
            "text/plain": [
              "0.012357884330202669"
            ]
          },
          "metadata": {
            "tags": []
          },
          "execution_count": 9
        }
      ]
    },
    {
      "cell_type": "markdown",
      "metadata": {
        "id": "zemjP2MhfhhZ"
      },
      "source": [
        "After one positive breathalyzer test, the probability that the person is drunk is 1.24%."
      ]
    },
    {
      "cell_type": "code",
      "metadata": {
        "colab": {
          "base_uri": "https://localhost:8080/"
        },
        "id": "xPG5zQo0fUrQ",
        "outputId": "3f615870-8264-4408-92e4-a0adf94a45cb"
      },
      "source": [
        "prob_drunk_positive(0.012357884330202669)"
      ],
      "execution_count": null,
      "outputs": [
        {
          "output_type": "execute_result",
          "data": {
            "text/plain": [
              "0.13525210993291495"
            ]
          },
          "metadata": {
            "tags": []
          },
          "execution_count": 10
        }
      ]
    },
    {
      "cell_type": "markdown",
      "metadata": {
        "id": "bIPUvszBfvyg"
      },
      "source": [
        "After two positive breathalyzer tests, the probability that the person is drunk is 13.5%."
      ]
    },
    {
      "cell_type": "code",
      "metadata": {
        "colab": {
          "base_uri": "https://localhost:8080/"
        },
        "id": "fl1o2nAsgJuL",
        "outputId": "b8396b58-d258-46c5-b349-04f8a379fa29"
      },
      "source": [
        "prob_drunk_positive(0.13525210993291495)"
      ],
      "execution_count": null,
      "outputs": [
        {
          "output_type": "execute_result",
          "data": {
            "text/plain": [
              "0.6615996951348605"
            ]
          },
          "metadata": {
            "tags": []
          },
          "execution_count": 11
        }
      ]
    },
    {
      "cell_type": "code",
      "metadata": {
        "colab": {
          "base_uri": "https://localhost:8080/"
        },
        "id": "8J_MfoQQgkUU",
        "outputId": "8b9bcfd5-f206-4946-a7c8-dfeab27c2b4e"
      },
      "source": [
        "prob_drunk_positive(0.6615996951348605)"
      ],
      "execution_count": null,
      "outputs": [
        {
          "output_type": "execute_result",
          "data": {
            "text/plain": [
              "0.9606895076105054"
            ]
          },
          "metadata": {
            "tags": []
          },
          "execution_count": 12
        }
      ]
    },
    {
      "cell_type": "markdown",
      "metadata": {
        "id": "0YPQkqZ9gpud"
      },
      "source": [
        "There will need to be 4 breathalyzer tests in order to state that the person is drunk beyond the legal limit with at least 95% confidence."
      ]
    },
    {
      "cell_type": "markdown",
      "metadata": {
        "id": "nhOAsLjvCSLF"
      },
      "source": [
        "### 2) In your own words, summarize the difference between Bayesian and Frequentist statistics\n",
        "\n",
        "If you're unsure where to start, check out [this blog post of Bayes theorem with Python](https://dataconomy.com/2015/02/introduction-to-bayes-theorem-with-python/)."
      ]
    },
    {
      "cell_type": "markdown",
      "metadata": {
        "id": "AADlIVfgDztY"
      },
      "source": [
        "Frequentist statistics is where you base your probable outcomes on a specific non-changing sample. \n",
        "\n",
        "Bayesian statistics is where you base your probable outcomes on previous outcomes or previous beliefs. You can \"update\" your belief based on the new evidence produced."
      ]
    },
    {
      "cell_type": "markdown",
      "metadata": {
        "id": "AeAGBxWjCTv3"
      },
      "source": [
        "### 3) Use the following Template to help come up with ideas for your Build Sprint Project: \n",
        "\n"
      ]
    },
    {
      "cell_type": "markdown",
      "metadata": {
        "id": "YgIaBr__C5Q2"
      },
      "source": [
        "---\n",
        "\n",
        "## Idea 1:"
      ]
    },
    {
      "cell_type": "markdown",
      "metadata": {
        "id": "MwR6hTB1CiLR"
      },
      "source": [
        "### You\n",
        "  1. What do you care about? \n",
        "\n",
        "  The Education System\n",
        "\n",
        "  2. What do you know about? \n",
        "\n",
        "  The pay and time it takes being a teacher.\n",
        "\n",
        "  3. What decisions do you face? \n",
        "  \n",
        "  Is it worth it being a teacher?\n",
        "\n",
        "\n"
      ]
    },
    {
      "cell_type": "markdown",
      "metadata": {
        "id": "lorLHSkzClzC"
      },
      "source": [
        "### Seven templates\n",
        "\n",
        "In order to better understand the prompts here, please review the [Priceonomics Content Marketing Templates](https://priceonomics.com/introducing-priceonomics-content-marketing/)\n",
        "\n",
        "Can you apply the templates to your topics?\n",
        "\n",
        "**Geographic Variation:** Where in the US do teachers get paid more? Less?\n",
        "\n",
        "**Trend related to the news:** Teachers' salaries are low compared to other similar jobs in America.\n",
        "\n",
        "**Who does that?:** What types of schools pay more?\n",
        "\n",
        "**Answering a question people care about:** Are teachers' salaries enough to care for your family? (est. family size is 1 - 4)\n",
        "\n",
        "**Valuable to businesses:** What type of education are parents looking for?\n",
        "\n",
        "**What's the most popular?:** What is the highest teacher salary?\n",
        "\n",
        "**Cost/Money rankings:** What degree of education do teachers who make the most get?"
      ]
    },
    {
      "cell_type": "markdown",
      "metadata": {
        "id": "3OXCCIT6C_p0"
      },
      "source": [
        "### Misconceptions\n",
        "\n",
        "What misconceptions do people have about your topic?"
      ]
    },
    {
      "cell_type": "markdown",
      "metadata": {
        "id": "PJb10rg3qkj9"
      },
      "source": [
        "*   Teachers have it easy\n",
        "*   The amount of salary a teacher makes is enough to not be in poverty.\n",
        "*   Teachers only work during the school day.\n",
        "*   Teachers get the summer off."
      ]
    },
    {
      "cell_type": "markdown",
      "metadata": {
        "id": "3tNrndE9DD3-"
      },
      "source": [
        "### Examples\n",
        "\n",
        "1.  What data storytelling example inspires you?\n",
        "\n",
        "    Visual representation using graphs with hard data.\n",
        "\n",
        "2.  Could you do a new hypothesis, for the same question?\n",
        "\n",
        "    Teachers in America are undervalued and underpaid.\n",
        "\n",
        "3.  Could you do a new question, for the same topic?\n",
        "\n",
        "    Have teacher salaries changed over time in relation to the economy.\n",
        "\n",
        "4.  Could you do a new topic, with the same \"style\"?"
      ]
    },
    {
      "cell_type": "markdown",
      "metadata": {
        "id": "9rPtMFB6DN7B"
      },
      "source": [
        "###Data\n",
        "\n",
        "Where could you search for data about your topic?\n",
        "\n",
        "*   Census data\n",
        "*   master dataset site\n",
        "*   government dataset\n",
        "*   State government dataset\n",
        "\n"
      ]
    },
    {
      "cell_type": "markdown",
      "metadata": {
        "id": "ld5MOaFaDVSK"
      },
      "source": [
        "---\n",
        "\n",
        "## Idea 2:"
      ]
    },
    {
      "cell_type": "markdown",
      "metadata": {
        "id": "znhTWIlUDVSM"
      },
      "source": [
        "### You\n",
        "*   What do you care about?\n",
        "\n",
        "    Eradicating Diseases\n",
        "    \n",
        "*   What do you know about?\n",
        "\n",
        "    Research is funded by private and public entities.\n",
        "\n",
        "*   What decisions do you face?\n",
        "\n",
        "    How many disease I look at. \n",
        "\n",
        "    Diseases funded the same amount.\n",
        "\n",
        "    Diseases funded for the same amount of time.\n",
        "  "
      ]
    },
    {
      "cell_type": "markdown",
      "metadata": {
        "id": "3Gln5mYeDVSM"
      },
      "source": [
        "Does how much money is put into the research and vaccinations for known diseases correlate to the elimination or vaccination for those diseases?"
      ]
    },
    {
      "cell_type": "markdown",
      "metadata": {
        "id": "W-njBredDVSN"
      },
      "source": [
        "### Seven templates\n",
        "\n",
        "In order to better understand the prompts here, please review the [Priceonomics Content Marketing Templates](https://priceonomics.com/introducing-priceonomics-content-marketing/)\n",
        "\n",
        "Can you apply the templates to your topics?\n",
        "\n",
        "**Geographic Variation:** Does one part of America recieve more funding? Do they have more diseases in that region?\n",
        "\n",
        "**Trend related to the news:** Coronavirus vaccines.\n",
        "\n",
        "**Who does that?:** Based on funding, when a vaccine is released, how many people are getting a vaccine for that said disease?\n",
        "\n",
        "How many people are able to get the vaccine or medicine for the disease?\n",
        "\n",
        "**Answering a question people care about:** Does the amount of money inputted into disease research make a difference in the outcome of eradicating or getting a vaccine for the said disease?\n",
        "\n",
        "**Valuable to businesses:** What types of diseases does the average person care about?\n",
        "\n",
        "Will funding a disease create more customers for the said business?\n",
        "\n",
        "**What's the most popular?:** What disease to date has had the most funding?\n",
        "\n",
        "**Cost/Money rankings:** What types of vaccines cost the most money to make?\n",
        "\n"
      ]
    },
    {
      "cell_type": "markdown",
      "metadata": {
        "id": "njLQ3hLuDVSO"
      },
      "source": [
        "### Misconceptions\n",
        "\n",
        "What misconceptions do people have about your topic?\n",
        "\n",
        "\n",
        "\n",
        "*   Funding automatically lets companies start creating a vaccine for a disease.\n",
        "*   Less funding will make the process longer.\n",
        "*   Funding doesn't matter, companies will still try to create a solution for the disease.\n",
        "*   A lot of the companies that are funded pocket the money instead of using it for research.\n",
        "\n"
      ]
    },
    {
      "cell_type": "markdown",
      "metadata": {
        "id": "IzrUvaKeDVSO"
      },
      "source": [
        ""
      ]
    },
    {
      "cell_type": "markdown",
      "metadata": {
        "id": "L0X6X5WaDVSP"
      },
      "source": [
        "### Examples\n",
        "\n",
        "What data storytelling example inspires you?\n",
        "\n",
        "Could you do a new hypothesis, for the same question?\n",
        "\n",
        "Could you do a new question, for the same topic?\n",
        "\n",
        "Could you do a new topic, with the same \"style\"?"
      ]
    },
    {
      "cell_type": "markdown",
      "metadata": {
        "id": "fDdHExa0DVSP"
      },
      "source": [
        ""
      ]
    },
    {
      "cell_type": "markdown",
      "metadata": {
        "id": "CxgSpiwYDVSQ"
      },
      "source": [
        "###Data\n",
        "\n",
        "Where could you search for data about your topic?\n",
        "\n",
        "*  specific research websites for a disease.\n",
        "*  government datasets\n",
        "*  businesses who have donated\n",
        "*  state datasets"
      ]
    },
    {
      "cell_type": "markdown",
      "metadata": {
        "id": "uWgWjp3PQ3Sq"
      },
      "source": [
        "## Resources"
      ]
    },
    {
      "cell_type": "markdown",
      "metadata": {
        "id": "QRgHqmYIQ9qn"
      },
      "source": [
        "- [Worked example of Bayes rule calculation](https://en.wikipedia.org/wiki/Bayes'_theorem#Examples) (helpful as it fully breaks out the denominator)\n",
        "- [Source code for mvsdist in scipy](https://github.com/scipy/scipy/blob/90534919e139d2a81c24bf08341734ff41a3db12/scipy/stats/morestats.py#L139)"
      ]
    },
    {
      "cell_type": "markdown",
      "metadata": {
        "id": "GP7Jv1XvwtkX"
      },
      "source": [
        "## Stretch Goals:\n",
        "\n",
        "- Go back and study the content from Modules 1 & 2 & 3 to make sure that you're really comfortable with them.\n",
        "- Apply a Bayesian technique to a problem you previously worked (in an assignment or project work) on from a frequentist (standard) perspective\n",
        "- Check out [PyMC3](https://docs.pymc.io/) (note this goes beyond hypothesis tests into modeling) - read the guides and work through some examples\n",
        "- Take PyMC3 further - see if you can build something with it!"
      ]
    }
  ]
}